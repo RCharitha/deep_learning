{
 "cells": [
  {
   "cell_type": "code",
   "execution_count": 1,
   "id": "a165890b-2dc7-4d12-ab5d-dd3fe986800c",
   "metadata": {},
   "outputs": [],
   "source": [
    "import numpy as np\n",
    "import pandas as pd\n",
    "from sklearn.preprocessing import MinMaxScaler\n",
    "scaler=MinMaxScaler()"
   ]
  },
  {
   "cell_type": "code",
   "execution_count": 2,
   "id": "e2bcb5f0-ef5c-4f84-92c5-adcc50098e48",
   "metadata": {},
   "outputs": [],
   "source": [
    "df=pd.DataFrame({\n",
    "    'hours':[2.5, 5.1, 3.2, 8.5, 3.5, 1.5, 9.2, 5.5, 8.3, 2.7,\n",
    "     7.7, 5.9, 4.5, 3.3, 1.1, 8.9, 2.5, 1.9, 6.1, 7.4,\n",
    "     2.7, 4.8, 3.8, 6.9, 7.8],\n",
    "    'score':[21, 47, 27, 75, 30, 20, 88, 60, 81, 25,\n",
    "     85, 62, 41, 42, 17, 95, 30, 24, 67, 69,\n",
    "     30, 54, 35, 76, 86]\n",
    "})"
   ]
  },
  {
   "cell_type": "code",
   "execution_count": 3,
   "id": "d935673b-8a7c-4e02-b948-960dfa9109c9",
   "metadata": {},
   "outputs": [
    {
     "data": {
      "text/html": [
       "<div>\n",
       "<style scoped>\n",
       "    .dataframe tbody tr th:only-of-type {\n",
       "        vertical-align: middle;\n",
       "    }\n",
       "\n",
       "    .dataframe tbody tr th {\n",
       "        vertical-align: top;\n",
       "    }\n",
       "\n",
       "    .dataframe thead th {\n",
       "        text-align: right;\n",
       "    }\n",
       "</style>\n",
       "<table border=\"1\" class=\"dataframe\">\n",
       "  <thead>\n",
       "    <tr style=\"text-align: right;\">\n",
       "      <th></th>\n",
       "      <th>hours</th>\n",
       "      <th>score</th>\n",
       "    </tr>\n",
       "  </thead>\n",
       "  <tbody>\n",
       "    <tr>\n",
       "      <th>0</th>\n",
       "      <td>2.5</td>\n",
       "      <td>21</td>\n",
       "    </tr>\n",
       "    <tr>\n",
       "      <th>1</th>\n",
       "      <td>5.1</td>\n",
       "      <td>47</td>\n",
       "    </tr>\n",
       "    <tr>\n",
       "      <th>2</th>\n",
       "      <td>3.2</td>\n",
       "      <td>27</td>\n",
       "    </tr>\n",
       "    <tr>\n",
       "      <th>3</th>\n",
       "      <td>8.5</td>\n",
       "      <td>75</td>\n",
       "    </tr>\n",
       "    <tr>\n",
       "      <th>4</th>\n",
       "      <td>3.5</td>\n",
       "      <td>30</td>\n",
       "    </tr>\n",
       "  </tbody>\n",
       "</table>\n",
       "</div>"
      ],
      "text/plain": [
       "   hours  score\n",
       "0    2.5     21\n",
       "1    5.1     47\n",
       "2    3.2     27\n",
       "3    8.5     75\n",
       "4    3.5     30"
      ]
     },
     "execution_count": 3,
     "metadata": {},
     "output_type": "execute_result"
    }
   ],
   "source": [
    "df.head()"
   ]
  },
  {
   "cell_type": "code",
   "execution_count": 4,
   "id": "71c82460-b0ee-4a4d-bc17-89b402d304e9",
   "metadata": {},
   "outputs": [],
   "source": [
    "scaled=scaler.fit_transform(df)"
   ]
  },
  {
   "cell_type": "code",
   "execution_count": 5,
   "id": "4c35affb-8e00-4044-85a8-0f8a7f369611",
   "metadata": {},
   "outputs": [],
   "source": [
    "df=pd.DataFrame(scaled,columns=['x','y'])"
   ]
  },
  {
   "cell_type": "code",
   "execution_count": 6,
   "id": "12c6cea5-29e3-4a50-842d-6a6ae77f62c0",
   "metadata": {},
   "outputs": [
    {
     "data": {
      "text/html": [
       "<div>\n",
       "<style scoped>\n",
       "    .dataframe tbody tr th:only-of-type {\n",
       "        vertical-align: middle;\n",
       "    }\n",
       "\n",
       "    .dataframe tbody tr th {\n",
       "        vertical-align: top;\n",
       "    }\n",
       "\n",
       "    .dataframe thead th {\n",
       "        text-align: right;\n",
       "    }\n",
       "</style>\n",
       "<table border=\"1\" class=\"dataframe\">\n",
       "  <thead>\n",
       "    <tr style=\"text-align: right;\">\n",
       "      <th></th>\n",
       "      <th>x</th>\n",
       "      <th>y</th>\n",
       "    </tr>\n",
       "  </thead>\n",
       "  <tbody>\n",
       "    <tr>\n",
       "      <th>0</th>\n",
       "      <td>0.172840</td>\n",
       "      <td>0.051282</td>\n",
       "    </tr>\n",
       "    <tr>\n",
       "      <th>1</th>\n",
       "      <td>0.493827</td>\n",
       "      <td>0.384615</td>\n",
       "    </tr>\n",
       "    <tr>\n",
       "      <th>2</th>\n",
       "      <td>0.259259</td>\n",
       "      <td>0.128205</td>\n",
       "    </tr>\n",
       "    <tr>\n",
       "      <th>3</th>\n",
       "      <td>0.913580</td>\n",
       "      <td>0.743590</td>\n",
       "    </tr>\n",
       "    <tr>\n",
       "      <th>4</th>\n",
       "      <td>0.296296</td>\n",
       "      <td>0.166667</td>\n",
       "    </tr>\n",
       "  </tbody>\n",
       "</table>\n",
       "</div>"
      ],
      "text/plain": [
       "          x         y\n",
       "0  0.172840  0.051282\n",
       "1  0.493827  0.384615\n",
       "2  0.259259  0.128205\n",
       "3  0.913580  0.743590\n",
       "4  0.296296  0.166667"
      ]
     },
     "execution_count": 6,
     "metadata": {},
     "output_type": "execute_result"
    }
   ],
   "source": [
    "df.head()"
   ]
  },
  {
   "cell_type": "code",
   "execution_count": 19,
   "id": "09c29fab-94b8-4689-a909-054be720b6ff",
   "metadata": {},
   "outputs": [],
   "source": [
    "def batch_gradient_descent(x, y, epochs, learning_rate=0.01):\n",
    "    w = 1.0\n",
    "    b = 0.0\n",
    "    n = len(x)\n",
    "    loss_history = []\n",
    "    for i in range(epochs):\n",
    "        y_pred = w * x + b                          \n",
    "        loss = np.mean((y - y_pred)**2)             \n",
    "        dw = -2 * np.mean(x * (y - y_pred))         \n",
    "        db = -2 * np.mean(y - y_pred)               \n",
    "        w = w - learning_rate * dw                  \n",
    "        b = b - learning_rate * db                  \n",
    "        loss_history.append(loss)\n",
    "        if i%100 ==0: \n",
    "            print(f\"Epoch {i}, Loss: {loss}, w: {w}, b: {b}\")\n",
    "\n",
    "    \n"
   ]
  },
  {
   "cell_type": "code",
   "execution_count": 20,
   "id": "d81ee1fa-5081-4cc9-9e22-65b68712ee27",
   "metadata": {},
   "outputs": [
    {
     "name": "stdout",
     "output_type": "stream",
     "text": [
      "Epoch 0, Loss: 0.0064425883989036896, w: 0.9996331469170975, b: -0.0008182336182336194\n",
      "Epoch 100, Loss: 0.004828135553639943, w: 0.9891740659387532, b: -0.03155897343377721\n",
      "Epoch 200, Loss: 0.004799912395923685, w: 0.9917783879703188, b: -0.03578448293756368\n",
      "Epoch 300, Loss: 0.004786303696987569, w: 0.9949415693039972, b: -0.037662166879953135\n",
      "Epoch 400, Loss: 0.004776250767434608, w: 0.9977393140695273, b: -0.03914013889731005\n",
      "Epoch 500, Loss: 0.004768790842392713, w: 1.0001551939407176, b: -0.04040228471997988\n",
      "Epoch 600, Loss: 0.004763254882473966, w: 1.002236806636792, b: -0.041488683235344034\n",
      "Epoch 700, Loss: 0.004759146682729689, w: 1.0040300448852852, b: -0.042424490287621006\n",
      "Epoch 800, Loss: 0.004756098014489165, w: 1.0055748301072975, b: -0.043230634360645205\n",
      "Epoch 900, Loss: 0.00475383561766829, w: 1.0069055832112501, b: -0.04392508551029968\n"
     ]
    }
   ],
   "source": [
    "x=df['x']\n",
    "y=df['y']\n",
    "epochs=1000\n",
    "batch_gradient_descent(x,y,epochs,learning_rate=0.01)\n",
    "  "
   ]
  },
  {
   "cell_type": "code",
   "execution_count": 10,
   "id": "7084bd42-014c-4882-8848-f79f8bbda545",
   "metadata": {},
   "outputs": [],
   "source": [
    "import numpy as np\n",
    "\n",
    "def stochastic_gradient_descent(x, y, epochs, learning_rate=0.01):\n",
    "    w = 1.0  \n",
    "    b = 0.0  \n",
    "    n = len(x)  \n",
    "    for epoch in range(epochs):\n",
    "        indices = np.random.permutation(n)\n",
    "        x_shuffled = x[indices]\n",
    "        y_shuffled = y[indices]\n",
    "        for i in range(n):\n",
    "            xi = x_shuffled[i]  \n",
    "            yi = y_shuffled[i]  \n",
    "            y_pred = (x_i * w) + b\n",
    "            loss = (y_i - y_pred) ** 2\n",
    "            dw = -2 * x_i * (y_i - y_pred)  \n",
    "            db = -2 * (y_i - y_pred)    \n",
    "            w = w - learning_rate * dw\n",
    "            b = b - learning_rate * db\n",
    "        if epoch % 100 == 0:\n",
    "            print(f\"Epoch {epoch + 1}, Loss: {loss:.4f}, w: {w:.4f}, b: {b:.4f}\")\n"
   ]
  },
  {
   "cell_type": "code",
   "execution_count": 22,
   "id": "35d51c20-4e6d-4821-ba84-0abe0584198d",
   "metadata": {},
   "outputs": [
    {
     "name": "stdout",
     "output_type": "stream",
     "text": [
      "Epoch 1, Loss: 0.0065, w: 1.0027, b: -0.0119\n",
      "Epoch 101, Loss: 0.0050, w: 1.0336, b: -0.0294\n",
      "Epoch 201, Loss: 0.0050, w: 1.0336, b: -0.0294\n",
      "Epoch 301, Loss: 0.0050, w: 1.0336, b: -0.0294\n",
      "Epoch 401, Loss: 0.0050, w: 1.0336, b: -0.0294\n",
      "Epoch 501, Loss: 0.0050, w: 1.0336, b: -0.0294\n",
      "Epoch 601, Loss: 0.0050, w: 1.0336, b: -0.0294\n",
      "Epoch 701, Loss: 0.0050, w: 1.0336, b: -0.0294\n",
      "Epoch 801, Loss: 0.0050, w: 1.0336, b: -0.0294\n",
      "Epoch 901, Loss: 0.0050, w: 1.0336, b: -0.0294\n"
     ]
    },
    {
     "data": {
      "text/plain": [
       "(1.0336029205622412, -0.02939042351749508)"
      ]
     },
     "execution_count": 22,
     "metadata": {},
     "output_type": "execute_result"
    }
   ],
   "source": [
    "\n",
    "epochs = 1000               \n",
    "learning_rate = 0.05        \n",
    "stochastic_gradient_descent(x, y, epochs, learning_rate)"
   ]
  },
  {
   "cell_type": "code",
   "execution_count": 32,
   "id": "c5aa3c5b-452f-428e-9b20-5f78a1225ada",
   "metadata": {},
   "outputs": [],
   "source": [
    "\n",
    "def get_batches(x, y, batch_size):\n",
    "    num_samples = len(x)\n",
    "    batches = []\n",
    "    for i in range(0, num_samples, batch_size):\n",
    "        x_batch = x[i:i+batch_size]\n",
    "        y_batch = y[i:i+batch_size]\n",
    "        batches.append((x_batch, y_batch))\n",
    "    return batches\n",
    "\n",
    "def mini_batch_gradient_descent(x, y, epochs, batch_size, learning_rate=0.01):\n",
    "    w = 1.0\n",
    "    b = 0.0\n",
    "    n = len(x)\n",
    "    loss_history = []\n",
    "    for epoch in range(epochs):\n",
    "        indices = np.random.permutation(n)\n",
    "        x_shuffled, y_shuffled = x[indices], y[indices]\n",
    "        batches = get_batches(x_shuffled, y_shuffled, batch_size)\n",
    "        epoch_loss = 0\n",
    "        for x_batch, y_batch in batches:\n",
    "            y_pred = w * x_batch + b\n",
    "            loss = np.mean((y_batch - y_pred) ** 2)\n",
    "            epoch_loss += loss\n",
    "            dw = -2 * np.mean(x_batch * (y_batch - y_pred))\n",
    "            db = -2 * np.mean(y_batch - y_pred)\n",
    "            w =w- learning_rate * dw\n",
    "            b =b-learning_rate * db\n",
    "        loss_history.append(epoch_loss / len(batches))\n",
    "        if epoch % 100 == 0:\n",
    "            print(f\"Epoch {epoch}, Loss: {epoch_loss / len(batches):.4f}, w: {w:.4f}, b: {b:.4f}\")\n"
   ]
  },
  {
   "cell_type": "code",
   "execution_count": 33,
   "id": "aeafc7ed-085a-4ece-9734-182dfe21a05d",
   "metadata": {},
   "outputs": [
    {
     "name": "stdout",
     "output_type": "stream",
     "text": [
      "Epoch 0, Loss: 0.0056, w: 0.9949, b: -0.0109\n",
      "Epoch 100, Loss: 0.0048, w: 1.0152, b: -0.0452\n",
      "Epoch 200, Loss: 0.0048, w: 1.0150, b: -0.0470\n",
      "Epoch 300, Loss: 0.0048, w: 1.0202, b: -0.0426\n",
      "Epoch 400, Loss: 0.0056, w: 1.0163, b: -0.0515\n",
      "Epoch 500, Loss: 0.0049, w: 1.0144, b: -0.0473\n",
      "Epoch 600, Loss: 0.0046, w: 1.0131, b: -0.0477\n",
      "Epoch 700, Loss: 0.0047, w: 1.0174, b: -0.0490\n",
      "Epoch 800, Loss: 0.0043, w: 1.0131, b: -0.0493\n",
      "Epoch 900, Loss: 0.0048, w: 1.0164, b: -0.0492\n"
     ]
    }
   ],
   "source": [
    "epochs = 1000\n",
    "batch_size = 10\n",
    "learning_rate = 0.05\n",
    "mini_batch_gradient_descent(x, y, epochs, batch_size, learning_rate)"
   ]
  },
  {
   "cell_type": "code",
   "execution_count": null,
   "id": "8a7d0ef2-ecf5-4bf1-8ee3-50e1d2b671e3",
   "metadata": {},
   "outputs": [],
   "source": []
  }
 ],
 "metadata": {
  "kernelspec": {
   "display_name": "Python 3 (ipykernel)",
   "language": "python",
   "name": "python3"
  },
  "language_info": {
   "codemirror_mode": {
    "name": "ipython",
    "version": 3
   },
   "file_extension": ".py",
   "mimetype": "text/x-python",
   "name": "python",
   "nbconvert_exporter": "python",
   "pygments_lexer": "ipython3",
   "version": "3.12.6"
  }
 },
 "nbformat": 4,
 "nbformat_minor": 5
}
